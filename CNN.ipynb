{
 "cells": [
  {
   "cell_type": "code",
   "execution_count": 1,
   "id": "e34070c8-76cb-4132-9e72-bfaade1d2ece",
   "metadata": {},
   "outputs": [
    {
     "name": "stdout",
     "output_type": "stream",
     "text": [
      "Requirement already satisfied: pandas in c:\\users\\lenovo\\anaconda3\\lib\\site-packages (2.1.4)\n",
      "Requirement already satisfied: numpy<2,>=1.23.2 in c:\\users\\lenovo\\anaconda3\\lib\\site-packages (from pandas) (1.26.4)\n",
      "Requirement already satisfied: python-dateutil>=2.8.2 in c:\\users\\lenovo\\anaconda3\\lib\\site-packages (from pandas) (2.8.2)\n",
      "Requirement already satisfied: pytz>=2020.1 in c:\\users\\lenovo\\anaconda3\\lib\\site-packages (from pandas) (2023.3.post1)\n",
      "Requirement already satisfied: tzdata>=2022.1 in c:\\users\\lenovo\\anaconda3\\lib\\site-packages (from pandas) (2023.3)\n",
      "Requirement already satisfied: six>=1.5 in c:\\users\\lenovo\\anaconda3\\lib\\site-packages (from python-dateutil>=2.8.2->pandas) (1.16.0)\n",
      "Note: you may need to restart the kernel to use updated packages.\n"
     ]
    }
   ],
   "source": [
    "pip install pandas"
   ]
  },
  {
   "cell_type": "code",
   "execution_count": 2,
   "id": "28838875-3da7-4248-841f-ce7db6bb5063",
   "metadata": {},
   "outputs": [
    {
     "name": "stdout",
     "output_type": "stream",
     "text": [
      "Requirement already satisfied: numpy in c:\\users\\lenovo\\anaconda3\\lib\\site-packages (1.26.4)\n",
      "Note: you may need to restart the kernel to use updated packages.\n"
     ]
    }
   ],
   "source": [
    "pip install numpy"
   ]
  },
  {
   "cell_type": "code",
   "execution_count": 3,
   "id": "e6abda4a-322c-44ea-a4ac-ccb4e39a4a2f",
   "metadata": {},
   "outputs": [
    {
     "name": "stdout",
     "output_type": "stream",
     "text": [
      "Requirement already satisfied: seaborn in c:\\users\\lenovo\\anaconda3\\lib\\site-packages (0.12.2)\n",
      "Requirement already satisfied: numpy!=1.24.0,>=1.17 in c:\\users\\lenovo\\anaconda3\\lib\\site-packages (from seaborn) (1.26.4)\n",
      "Requirement already satisfied: pandas>=0.25 in c:\\users\\lenovo\\anaconda3\\lib\\site-packages (from seaborn) (2.1.4)\n",
      "Requirement already satisfied: matplotlib!=3.6.1,>=3.1 in c:\\users\\lenovo\\anaconda3\\lib\\site-packages (from seaborn) (3.8.0)\n",
      "Requirement already satisfied: contourpy>=1.0.1 in c:\\users\\lenovo\\anaconda3\\lib\\site-packages (from matplotlib!=3.6.1,>=3.1->seaborn) (1.2.0)\n",
      "Requirement already satisfied: cycler>=0.10 in c:\\users\\lenovo\\anaconda3\\lib\\site-packages (from matplotlib!=3.6.1,>=3.1->seaborn) (0.11.0)\n",
      "Requirement already satisfied: fonttools>=4.22.0 in c:\\users\\lenovo\\anaconda3\\lib\\site-packages (from matplotlib!=3.6.1,>=3.1->seaborn) (4.25.0)\n",
      "Requirement already satisfied: kiwisolver>=1.0.1 in c:\\users\\lenovo\\anaconda3\\lib\\site-packages (from matplotlib!=3.6.1,>=3.1->seaborn) (1.4.4)\n",
      "Requirement already satisfied: packaging>=20.0 in c:\\users\\lenovo\\anaconda3\\lib\\site-packages (from matplotlib!=3.6.1,>=3.1->seaborn) (23.1)\n",
      "Requirement already satisfied: pillow>=6.2.0 in c:\\users\\lenovo\\anaconda3\\lib\\site-packages (from matplotlib!=3.6.1,>=3.1->seaborn) (10.2.0)\n",
      "Requirement already satisfied: pyparsing>=2.3.1 in c:\\users\\lenovo\\anaconda3\\lib\\site-packages (from matplotlib!=3.6.1,>=3.1->seaborn) (3.0.9)\n",
      "Requirement already satisfied: python-dateutil>=2.7 in c:\\users\\lenovo\\anaconda3\\lib\\site-packages (from matplotlib!=3.6.1,>=3.1->seaborn) (2.8.2)\n",
      "Requirement already satisfied: pytz>=2020.1 in c:\\users\\lenovo\\anaconda3\\lib\\site-packages (from pandas>=0.25->seaborn) (2023.3.post1)\n",
      "Requirement already satisfied: tzdata>=2022.1 in c:\\users\\lenovo\\anaconda3\\lib\\site-packages (from pandas>=0.25->seaborn) (2023.3)\n",
      "Requirement already satisfied: six>=1.5 in c:\\users\\lenovo\\anaconda3\\lib\\site-packages (from python-dateutil>=2.7->matplotlib!=3.6.1,>=3.1->seaborn) (1.16.0)\n",
      "Note: you may need to restart the kernel to use updated packages.\n"
     ]
    }
   ],
   "source": [
    "pip install seaborn"
   ]
  },
  {
   "cell_type": "code",
   "execution_count": 4,
   "id": "b0b459d7-1832-4fa3-8408-0f624a724169",
   "metadata": {},
   "outputs": [
    {
     "name": "stdout",
     "output_type": "stream",
     "text": [
      "Requirement already satisfied: matplotlib in c:\\users\\lenovo\\anaconda3\\lib\\site-packages (3.8.0)\n",
      "Requirement already satisfied: contourpy>=1.0.1 in c:\\users\\lenovo\\anaconda3\\lib\\site-packages (from matplotlib) (1.2.0)\n",
      "Requirement already satisfied: cycler>=0.10 in c:\\users\\lenovo\\anaconda3\\lib\\site-packages (from matplotlib) (0.11.0)\n",
      "Requirement already satisfied: fonttools>=4.22.0 in c:\\users\\lenovo\\anaconda3\\lib\\site-packages (from matplotlib) (4.25.0)\n",
      "Requirement already satisfied: kiwisolver>=1.0.1 in c:\\users\\lenovo\\anaconda3\\lib\\site-packages (from matplotlib) (1.4.4)\n",
      "Requirement already satisfied: numpy<2,>=1.21 in c:\\users\\lenovo\\anaconda3\\lib\\site-packages (from matplotlib) (1.26.4)\n",
      "Requirement already satisfied: packaging>=20.0 in c:\\users\\lenovo\\anaconda3\\lib\\site-packages (from matplotlib) (23.1)\n",
      "Requirement already satisfied: pillow>=6.2.0 in c:\\users\\lenovo\\anaconda3\\lib\\site-packages (from matplotlib) (10.2.0)\n",
      "Requirement already satisfied: pyparsing>=2.3.1 in c:\\users\\lenovo\\anaconda3\\lib\\site-packages (from matplotlib) (3.0.9)\n",
      "Requirement already satisfied: python-dateutil>=2.7 in c:\\users\\lenovo\\anaconda3\\lib\\site-packages (from matplotlib) (2.8.2)\n",
      "Requirement already satisfied: six>=1.5 in c:\\users\\lenovo\\anaconda3\\lib\\site-packages (from python-dateutil>=2.7->matplotlib) (1.16.0)\n",
      "Note: you may need to restart the kernel to use updated packages.\n"
     ]
    }
   ],
   "source": [
    "pip install matplotlib"
   ]
  },
  {
   "cell_type": "code",
   "execution_count": 5,
   "id": "9f747d16-0b06-43df-b20f-f9b355f6c605",
   "metadata": {},
   "outputs": [],
   "source": [
    "#Evrişimli Sinir Ağı Kütüphaneler\n",
    "import numpy as np\n",
    "import pandas as pd\n",
    "import seaborn as sns\n",
    "import matplotlib.pyplot as plt\n",
    "import warnings\n",
    "warnings.filterwarnings('ignore')"
   ]
  },
  {
   "cell_type": "code",
   "execution_count": 6,
   "id": "d19c4195-6044-4cfa-869c-9f03711aa47b",
   "metadata": {},
   "outputs": [
    {
     "name": "stdout",
     "output_type": "stream",
     "text": [
      "Verinin boyutu: (42000, 785)\n"
     ]
    },
    {
     "data": {
      "text/html": [
       "<div>\n",
       "<style scoped>\n",
       "    .dataframe tbody tr th:only-of-type {\n",
       "        vertical-align: middle;\n",
       "    }\n",
       "\n",
       "    .dataframe tbody tr th {\n",
       "        vertical-align: top;\n",
       "    }\n",
       "\n",
       "    .dataframe thead th {\n",
       "        text-align: right;\n",
       "    }\n",
       "</style>\n",
       "<table border=\"1\" class=\"dataframe\">\n",
       "  <thead>\n",
       "    <tr style=\"text-align: right;\">\n",
       "      <th></th>\n",
       "      <th>label</th>\n",
       "      <th>pixel0</th>\n",
       "      <th>pixel1</th>\n",
       "      <th>pixel2</th>\n",
       "      <th>pixel3</th>\n",
       "      <th>pixel4</th>\n",
       "      <th>pixel5</th>\n",
       "      <th>pixel6</th>\n",
       "      <th>pixel7</th>\n",
       "      <th>pixel8</th>\n",
       "      <th>...</th>\n",
       "      <th>pixel774</th>\n",
       "      <th>pixel775</th>\n",
       "      <th>pixel776</th>\n",
       "      <th>pixel777</th>\n",
       "      <th>pixel778</th>\n",
       "      <th>pixel779</th>\n",
       "      <th>pixel780</th>\n",
       "      <th>pixel781</th>\n",
       "      <th>pixel782</th>\n",
       "      <th>pixel783</th>\n",
       "    </tr>\n",
       "  </thead>\n",
       "  <tbody>\n",
       "    <tr>\n",
       "      <th>0</th>\n",
       "      <td>1</td>\n",
       "      <td>0</td>\n",
       "      <td>0</td>\n",
       "      <td>0</td>\n",
       "      <td>0</td>\n",
       "      <td>0</td>\n",
       "      <td>0</td>\n",
       "      <td>0</td>\n",
       "      <td>0</td>\n",
       "      <td>0</td>\n",
       "      <td>...</td>\n",
       "      <td>0</td>\n",
       "      <td>0</td>\n",
       "      <td>0</td>\n",
       "      <td>0</td>\n",
       "      <td>0</td>\n",
       "      <td>0</td>\n",
       "      <td>0</td>\n",
       "      <td>0</td>\n",
       "      <td>0</td>\n",
       "      <td>0</td>\n",
       "    </tr>\n",
       "    <tr>\n",
       "      <th>1</th>\n",
       "      <td>0</td>\n",
       "      <td>0</td>\n",
       "      <td>0</td>\n",
       "      <td>0</td>\n",
       "      <td>0</td>\n",
       "      <td>0</td>\n",
       "      <td>0</td>\n",
       "      <td>0</td>\n",
       "      <td>0</td>\n",
       "      <td>0</td>\n",
       "      <td>...</td>\n",
       "      <td>0</td>\n",
       "      <td>0</td>\n",
       "      <td>0</td>\n",
       "      <td>0</td>\n",
       "      <td>0</td>\n",
       "      <td>0</td>\n",
       "      <td>0</td>\n",
       "      <td>0</td>\n",
       "      <td>0</td>\n",
       "      <td>0</td>\n",
       "    </tr>\n",
       "    <tr>\n",
       "      <th>2</th>\n",
       "      <td>1</td>\n",
       "      <td>0</td>\n",
       "      <td>0</td>\n",
       "      <td>0</td>\n",
       "      <td>0</td>\n",
       "      <td>0</td>\n",
       "      <td>0</td>\n",
       "      <td>0</td>\n",
       "      <td>0</td>\n",
       "      <td>0</td>\n",
       "      <td>...</td>\n",
       "      <td>0</td>\n",
       "      <td>0</td>\n",
       "      <td>0</td>\n",
       "      <td>0</td>\n",
       "      <td>0</td>\n",
       "      <td>0</td>\n",
       "      <td>0</td>\n",
       "      <td>0</td>\n",
       "      <td>0</td>\n",
       "      <td>0</td>\n",
       "    </tr>\n",
       "    <tr>\n",
       "      <th>3</th>\n",
       "      <td>4</td>\n",
       "      <td>0</td>\n",
       "      <td>0</td>\n",
       "      <td>0</td>\n",
       "      <td>0</td>\n",
       "      <td>0</td>\n",
       "      <td>0</td>\n",
       "      <td>0</td>\n",
       "      <td>0</td>\n",
       "      <td>0</td>\n",
       "      <td>...</td>\n",
       "      <td>0</td>\n",
       "      <td>0</td>\n",
       "      <td>0</td>\n",
       "      <td>0</td>\n",
       "      <td>0</td>\n",
       "      <td>0</td>\n",
       "      <td>0</td>\n",
       "      <td>0</td>\n",
       "      <td>0</td>\n",
       "      <td>0</td>\n",
       "    </tr>\n",
       "    <tr>\n",
       "      <th>4</th>\n",
       "      <td>0</td>\n",
       "      <td>0</td>\n",
       "      <td>0</td>\n",
       "      <td>0</td>\n",
       "      <td>0</td>\n",
       "      <td>0</td>\n",
       "      <td>0</td>\n",
       "      <td>0</td>\n",
       "      <td>0</td>\n",
       "      <td>0</td>\n",
       "      <td>...</td>\n",
       "      <td>0</td>\n",
       "      <td>0</td>\n",
       "      <td>0</td>\n",
       "      <td>0</td>\n",
       "      <td>0</td>\n",
       "      <td>0</td>\n",
       "      <td>0</td>\n",
       "      <td>0</td>\n",
       "      <td>0</td>\n",
       "      <td>0</td>\n",
       "    </tr>\n",
       "  </tbody>\n",
       "</table>\n",
       "<p>5 rows × 785 columns</p>\n",
       "</div>"
      ],
      "text/plain": [
       "   label  pixel0  pixel1  pixel2  pixel3  pixel4  pixel5  pixel6  pixel7  \\\n",
       "0      1       0       0       0       0       0       0       0       0   \n",
       "1      0       0       0       0       0       0       0       0       0   \n",
       "2      1       0       0       0       0       0       0       0       0   \n",
       "3      4       0       0       0       0       0       0       0       0   \n",
       "4      0       0       0       0       0       0       0       0       0   \n",
       "\n",
       "   pixel8  ...  pixel774  pixel775  pixel776  pixel777  pixel778  pixel779  \\\n",
       "0       0  ...         0         0         0         0         0         0   \n",
       "1       0  ...         0         0         0         0         0         0   \n",
       "2       0  ...         0         0         0         0         0         0   \n",
       "3       0  ...         0         0         0         0         0         0   \n",
       "4       0  ...         0         0         0         0         0         0   \n",
       "\n",
       "   pixel780  pixel781  pixel782  pixel783  \n",
       "0         0         0         0         0  \n",
       "1         0         0         0         0  \n",
       "2         0         0         0         0  \n",
       "3         0         0         0         0  \n",
       "4         0         0         0         0  \n",
       "\n",
       "[5 rows x 785 columns]"
      ]
     },
     "execution_count": 6,
     "metadata": {},
     "output_type": "execute_result"
    }
   ],
   "source": [
    "veri=pd.read_csv(\"egitim.csv\")\n",
    "#28*28 piksel düzleştirilmiş ve 784 sutün olarak veriye eklenmiştir. \n",
    "#1 tane de sınıf/label bilgisi var toplamda 785 sütun vardır\n",
    "print(f\"Verinin boyutu: {veri.shape}\") \n",
    "veri.head()"
   ]
  },
  {
   "cell_type": "code",
   "execution_count": 7,
   "id": "da30c156-1445-4bec-a1a2-d26507563e0f",
   "metadata": {},
   "outputs": [
    {
     "name": "stdout",
     "output_type": "stream",
     "text": [
      "X veri: (42000, 784)\n",
      "Y veri: (42000,)\n"
     ]
    }
   ],
   "source": [
    "#Labellerı ayıralım\n",
    "Y_veri=veri[\"label\"]\n",
    "#x eğitim veri setini oluşturalım \n",
    "X_veri=veri.drop([\"label\"], axis=1)\n",
    "print(\"X veri:\", X_veri.shape)\n",
    "print(\"Y veri:\", Y_veri.shape)"
   ]
  },
  {
   "cell_type": "code",
   "execution_count": 8,
   "id": "31618475-f536-4d6c-9409-5485d3818a36",
   "metadata": {},
   "outputs": [
    {
     "name": "stdout",
     "output_type": "stream",
     "text": [
      "Sınıflar ve örnek sayıları:  label\n",
      "1    4684\n",
      "7    4401\n",
      "3    4351\n",
      "9    4188\n",
      "2    4177\n",
      "6    4137\n",
      "0    4132\n",
      "4    4072\n",
      "8    4063\n",
      "5    3795\n",
      "Name: count, dtype: int64\n"
     ]
    }
   ],
   "source": [
    "print(\"Sınıflar ve örnek sayıları: \",Y_veri.value_counts())"
   ]
  },
  {
   "cell_type": "code",
   "execution_count": 9,
   "id": "e5b5aa29-0547-46ca-9af8-30c28a7d2e48",
   "metadata": {},
   "outputs": [
    {
     "data": {
      "text/plain": [
       "28"
      ]
     },
     "execution_count": 9,
     "metadata": {},
     "output_type": "execute_result"
    }
   ],
   "source": [
    "#Resmin boyutunu kullanacağız\n",
    "resim_boyutu=int(np.sqrt(X_veri.shape[1]))\n",
    "resim_boyutu"
   ]
  },
  {
   "cell_type": "code",
   "execution_count": 10,
   "id": "1f2290a7-6d61-4969-a24f-17256347a203",
   "metadata": {},
   "outputs": [
    {
     "data": {
      "image/png": "[encoded data removed]",
      "text/plain": [
       "<Figure size 640x480 with 1 Axes>"
      ]
     },
     "metadata": {},
     "output_type": "display_data"
    }
   ],
   "source": [
    "#verimizi görselleştirelim 3 sınıfı\n",
    "resim1=X_veri.iloc[2000].values\n",
    "resim1=resim1.reshape((resim_boyutu, resim_boyutu))\n",
    "plt.imshow(resim1, cmap=\"gray\")\n",
    "plt.axis(\"off\")\n",
    "plt.show()"
   ]
  },
  {
   "cell_type": "code",
   "execution_count": 11,
   "id": "c37d3783-2ad6-4f60-9cab-6a381a966f11",
   "metadata": {},
   "outputs": [
    {
     "data": {
      "image/png": "[encoded data removed]",
      "text/plain": [
       "<Figure size 640x480 with 1 Axes>"
      ]
     },
     "metadata": {},
     "output_type": "display_data"
    }
   ],
   "source": [
    "#verimizi görselleştirelim 4 sınıfı\n",
    "resim2=X_veri.iloc[19000].values\n",
    "resim2=resim2.reshape((resim_boyutu, resim_boyutu))\n",
    "plt.imshow(resim2, cmap=\"gray\")\n",
    "plt.axis(\"off\")\n",
    "plt.show()"
   ]
  },
  {
   "cell_type": "code",
   "execution_count": 12,
   "id": "12091f47-aab0-4a60-8be7-fa322c33e72b",
   "metadata": {},
   "outputs": [],
   "source": [
    "#normalize the data\n",
    "#Aydınlatmanın farklılıklarının etkisini azaltmak için gri tonlamalı normalleştirme yapıyoruz.\n",
    "X_veri =X_veri /255.0"
   ]
  },
  {
   "cell_type": "code",
   "execution_count": 13,
   "id": "620e307b-ad81-4c52-89ad-ca62ff7174a3",
   "metadata": {},
   "outputs": [
    {
     "name": "stdout",
     "output_type": "stream",
     "text": [
      "X eğitim boyut: (42000, 28, 28, 1)\n"
     ]
    }
   ],
   "source": [
    "#Reshape\n",
    "#Tüm verileri 28x28x1 3B matrislere yeniden şekillendiriyoruz. \n",
    "#Çünkü Keras girdi olarak 3B veri kabul ediyor.\n",
    "#Keras'ın sonunda kanallara karşılık gelen ekstra bir boyuta ihtiyacı vardır.\n",
    "#Görsellerimiz gri ölçeklidir, bu nedenle yalnızca bir kanal kullanır.\n",
    "X_veri= X_veri.values.reshape(-1,28,28,1)\n",
    "print(f\"X eğitim boyut: {X_veri.shape}\")"
   ]
  },
  {
   "cell_type": "code",
   "execution_count": 14,
   "id": "cce9ff15-600a-4c5c-86b0-f38647a0b429",
   "metadata": {},
   "outputs": [],
   "source": [
    "#Etiketleri tek vektör olarak kodluyoruz\n",
    "from tensorflow.keras.utils import to_categorical\n",
    "Y_veri= to_categorical(Y_veri, num_classes=10)"
   ]
  },
  {
   "cell_type": "code",
   "execution_count": 15,
   "id": "5feb8f05-1402-4009-af56-c09b0ffc4bc8",
   "metadata": {},
   "outputs": [
    {
     "name": "stdout",
     "output_type": "stream",
     "text": [
      "X Eğitim boyu (37800, 28, 28, 1)\n",
      "X Test boyu (4200, 28, 28, 1)\n",
      "Y Eğitim boyu (37800, 10)\n",
      "Y Test boyu (4200, 10)\n"
     ]
    }
   ],
   "source": [
    "#Split the train and the validation set for the fitting\n",
    "from sklearn.model_selection import train_test_split\n",
    "X_egitim, X_test, Y_egitim, Y_test= train_test_split(X_veri, Y_veri, test_size=0.1, random_state=2)\n",
    "print(f\"X Eğitim boyu {X_egitim.shape}\")\n",
    "print(f\"X Test boyu {X_test.shape}\")\n",
    "print(f\"Y Eğitim boyu {Y_egitim.shape}\")\n",
    "print(f\"Y Test boyu {Y_test.shape}\")"
   ]
  },
  {
   "cell_type": "code",
   "execution_count": 16,
   "id": "b4b2dd9b-fb59-4861-9911-7607b826a64a",
   "metadata": {},
   "outputs": [],
   "source": [
    "#Evrişim katmanından sonra aktivasyon fonksiyonu olarak ReLU kullanıyoruz. \n",
    "#Bu aktivasyonu fonksiyonu doğrusallığı kırarak, modelimizin doğrusal olmayan yapıları öğrenmesine olanak sağlıyor.\n",
    "#conv => max pool => dropout => conv => max pool => dropout => fully connected (2 layer)\n",
    "#Dropout: Seyreltme, rastgele seçilen nöronların eğitim sırasında göz ardı edildiği bir tekniktir. \n",
    "#Ezberlemeyi(over-fitting) önler.\n",
    "\n",
    "from sklearn.metrics import confusion_matrix #bir karışıklık matrisi oluşturmak için \n",
    "import itertools\n",
    "from keras.utils import to_categorical #etiketleri kategorik olarak kodlamak için\n",
    "from keras.models import Sequential #sıralı bir model oluşturmak için\n",
    "from keras.layers import Dense, Dropout, Flatten, Conv2D, MaxPool2D #modelin katmanlarını tanımlamak\n",
    "from keras.optimizers import RMSprop, Adam #optimizasyon algoritmaları, modelin eğitimini düzenlemek\n",
    "from tensorflow.keras.preprocessing.image import ImageDataGenerator #görüntü veri artırımı için\n",
    "from keras.callbacks import ReduceLROnPlateau #öğrenme hızını azaltmak için\n",
    "\n",
    "model= Sequential()\n",
    "#1\n",
    "model.add(Conv2D(filters=8, kernel_size= (5,5), padding= 'Same', \n",
    "                 activation= 'relu', input_shape= (28,28,1)))\n",
    "model.add(MaxPool2D(pool_size=(2,2)))\n",
    "model.add(Dropout(0.25))\n",
    "#2\n",
    "model.add(Conv2D(filters=16, kernel_size= (3,3), padding= 'Same', \n",
    "                 activation= 'relu'))\n",
    "model.add(MaxPool2D(pool_size=(2,2), strides=(2,2)))\n",
    "model.add(Dropout(0.25))\n",
    "#tam bağlantı\n",
    "model.add(Flatten()) #özellik haritasını düzleştirir\n",
    "model.add(Dense(256, activation= \"relu\"))\n",
    "model.add(Dropout(0.5))\n",
    "model.add(Dense(10, activation= \"softmax\"))"
   ]
  },
  {
   "cell_type": "code",
   "execution_count": 17,
   "id": "8b2ed8b1-712e-4b98-94f7-758bce82ec7a",
   "metadata": {},
   "outputs": [],
   "source": [
    "#Adam optimizasyon yöntemi\n",
    "# Birinci moment tahmini için kullanılan exponential decay hızını belirler. \n",
    "#Bu parametre, geçmiş gradyanların ne kadar etkili olacağını belirler. \n",
    "#İkinci moment tahmini için kullanılan exponential decay hızını belirler. \n",
    "#Bu parametre, geçmiş gradyanların karesinin ne kadar etkili olacağını belirler. \n",
    "optimizer= Adam(learning_rate=0.001, beta_1=0.9, beta_2=0.999)"
   ]
  },
  {
   "cell_type": "code",
   "execution_count": 18,
   "id": "0ae6c1f5-3139-4959-9825-1831f5ca5e82",
   "metadata": {},
   "outputs": [],
   "source": [
    "#Kategorik çapraz entropi maliyet yöntemi\n",
    "model.compile(optimizer= optimizer,\n",
    "             loss=\"categorical_crossentropy\", metrics=[\"accuracy\"])"
   ]
  },
  {
   "cell_type": "code",
   "execution_count": 19,
   "id": "733310d9-69c7-4a1f-b5cd-a05573c3e3ac",
   "metadata": {},
   "outputs": [],
   "source": [
    "epochs= 10 #modelin eğitim veri seti üzerinde bir kez tamamen geçmesidir\n",
    "batch_size= 250 #bir eğitim adımında kullanılan örnek sayısını belirtir"
   ]
  },
  {
   "cell_type": "code",
   "execution_count": 20,
   "id": "8db043e6-5808-42cf-8595-f442c078ae9a",
   "metadata": {},
   "outputs": [],
   "source": [
    "# Ezberleme sorununu önlemek için, \n",
    "#el yazısı rakam veri setimizi yapay olarak genişletmemiz gerekiyor.\n",
    "datagen= ImageDataGenerator(\n",
    "    featurewise_center=False, #girdi ortamalasını veri kümesi üzerinden 0 olarak ayarlayın\n",
    "    samplewise_center=False, # her bir örnek ortalamasını 0 olarak ayarlayın\n",
    "    featurewise_std_normalization=False, #girdileri veri kümesinin standartlarına böl\n",
    "    samplewise_std_normalization=False,  # her girdiyi std'ye böl\n",
    "    zca_whitening=False,  # dimesion reduction\n",
    "    rotation_range=5,  # boyut küçültme\n",
    "    zoom_range = 0.1, # % 10 görüntüyü rastgele yakınlaştır\n",
    "    width_shift_range=0.1,  # görüntüleri yatay olarak rastgele kaydır % 10\n",
    "    height_shift_range=0.1,  # görüntüleri dikey olarak rastgele kaydır % 10\n",
    "    horizontal_flip=False,  # görüntüleri yatay olarak rastgele çevir\n",
    "    vertical_flip=False)  # görüntüleri yadikeytay olarak rastgele çevir\n",
    "\n",
    "datagen.fit(X_egitim)"
   ]
  },
  {
   "cell_type": "code",
   "execution_count": 21,
   "id": "f79caa03-c425-4ed5-91a8-a49da3fb062a",
   "metadata": {},
   "outputs": [
    {
     "name": "stdout",
     "output_type": "stream",
     "text": [
      "Epoch 1/10\n",
      "151/151 - 23s - 150ms/step - accuracy: 0.6453 - loss: 1.0601 - val_accuracy: 0.9498 - val_loss: 0.2025\n",
      "Epoch 2/10\n",
      "151/151 - 1s - 4ms/step - accuracy: 0.8280 - loss: 0.2894 - val_accuracy: 0.9488 - val_loss: 0.2026\n",
      "Epoch 3/10\n",
      "151/151 - 18s - 119ms/step - accuracy: 0.8728 - loss: 0.4040 - val_accuracy: 0.9624 - val_loss: 0.1312\n",
      "Epoch 4/10\n",
      "151/151 - 0s - 3ms/step - accuracy: 0.9040 - loss: 0.1786 - val_accuracy: 0.9629 - val_loss: 0.1309\n",
      "Epoch 5/10\n",
      "151/151 - 19s - 127ms/step - accuracy: 0.9042 - loss: 0.3049 - val_accuracy: 0.9693 - val_loss: 0.1077\n",
      "Epoch 6/10\n",
      "151/151 - 0s - 3ms/step - accuracy: 0.9320 - loss: 0.1231 - val_accuracy: 0.9698 - val_loss: 0.1077\n",
      "Epoch 7/10\n",
      "151/151 - 18s - 119ms/step - accuracy: 0.9177 - loss: 0.2629 - val_accuracy: 0.9724 - val_loss: 0.0938\n",
      "Epoch 8/10\n",
      "151/151 - 1s - 4ms/step - accuracy: 0.9240 - loss: 0.1548 - val_accuracy: 0.9719 - val_loss: 0.0952\n",
      "Epoch 9/10\n",
      "151/151 - 18s - 119ms/step - accuracy: 0.9277 - loss: 0.2325 - val_accuracy: 0.9748 - val_loss: 0.0877\n",
      "Epoch 10/10\n",
      "151/151 - 1s - 4ms/step - accuracy: 0.9360 - loss: 0.1290 - val_accuracy: 0.9748 - val_loss: 0.0874\n"
     ]
    }
   ],
   "source": [
    "#Modelin Eğitilmesi\n",
    "history= model.fit(datagen.flow(X_egitim, Y_egitim, #Veri artırma işlemi gerçekleştirme ve eğitim veri setini döngüye sokma\n",
    "                                         batch_size=batch_size),\n",
    "                             epochs=epochs,\n",
    "                             validation_data= (X_test, Y_test),\n",
    "                            #her bir epoch boyunca modelin kaç tane veri topluluğu (batch) ile eğitileceğini belirtir.\n",
    "                             steps_per_epoch=X_egitim.shape[0] // batch_size,\n",
    "                           #2, her epoch sonunda ayrıntılı bilgi sağlar\n",
    "                             verbose=2\n",
    "                            )"
   ]
  },
  {
   "cell_type": "code",
   "execution_count": 24,
   "id": "55e48159-4acb-4bf8-9974-1171b7b7be89",
   "metadata": {},
   "outputs": [
    {
     "data": {
      "image/png": "[encoded data removed]",
      "text/plain": [
       "<Figure size 640x480 with 1 Axes>"
      ]
     },
     "metadata": {},
     "output_type": "display_data"
    }
   ],
   "source": [
    "#Maliyet Görselleştirme\n",
    "plt.plot(history.history['val_loss'], color='b')\n",
    "plt.title(\"Test Maliyet\")\n",
    "plt.xlabel(\"İterasyon\")\n",
    "plt.ylabel(\"Maliyet\")\n",
    "plt.show()"
   ]
  },
  {
   "cell_type": "code",
   "execution_count": 38,
   "id": "2f67f4e9-d384-4c38-98a8-669e8f1ad978",
   "metadata": {},
   "outputs": [
    {
     "name": "stdout",
     "output_type": "stream",
     "text": [
      "\u001b[1m132/132\u001b[0m \u001b[32m━━━━━━━━━━━━━━━━━━━━\u001b[0m\u001b[37m\u001b[0m \u001b[1m0s\u001b[0m 3ms/step\n"
     ]
    },
    {
     "data": {
      "image/png": "[encoded data removed]",
      "text/plain": [
       "<Figure size 1200x1000 with 2 Axes>"
      ]
     },
     "metadata": {},
     "output_type": "display_data"
    }
   ],
   "source": [
    "#veri test setinden sınıf tahmin et\n",
    "Y_pred= model.predict(X_test)\n",
    "\n",
    "#tahmin edilen veriyi çevir\n",
    "#argmax dağılımlardan en yüksek olasılığa sahip sınıf indekslerini alır\n",
    "Y_pred_classes= np.argmax(Y_pred,axis=1)\n",
    "\n",
    "#test verisini çevir\n",
    "Y_true= np.argmax(Y_test,axis=1)\n",
    "\n",
    "#karışıklık matrisini hesapla\n",
    "confusion_mtx=confusion_matrix(Y_true, Y_pred_classes)\n",
    "\n",
    "#karışıklık matrisini çizdir\n",
    "f, ax=plt.subplots(figsize=(12,10))\n",
    "sns.heatmap(confusion_mtx, annot=False, linewidths=0.01,\n",
    "           cmap=\"Greens\", linecolor=\"gray\", fmt='.1f', ax=ax)\n",
    "# her hücrenin değerinin yazılması annot parametresi ile sağlanamayınca döngü ile yazıldı\n",
    "for i in range(confusion_mtx.shape[0]):\n",
    "    for j in range(confusion_mtx.shape[1]):\n",
    "        plt.text(j+0.5, i+0.5, confusion_mtx[i, j], ha='center', va='center', fontsize=8)\n",
    "        \n",
    "plt.xlabel(\"Tahminlenen Etiket\")\n",
    "plt.ylabel(\"Gerçek Etiket\")\n",
    "plt.title(\"Karışıklık Matrisi\")\n",
    "plt.show()"
   ]
  }
 ],
 "metadata": {
  "kernelspec": {
   "display_name": "Python 3 (ipykernel)",
   "language": "python",
   "name": "python3"
  },
  "language_info": {
   "codemirror_mode": {
    "name": "ipython",
    "version": 3
   },
   "file_extension": ".py",
   "mimetype": "text/x-python",
   "name": "python",
   "nbconvert_exporter": "python",
   "pygments_lexer": "ipython3",
   "version": "3.11.4"
  }
 },
 "nbformat": 4,
 "nbformat_minor": 5
}
